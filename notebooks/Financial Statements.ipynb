{
 "cells": [
  {
   "cell_type": "code",
   "execution_count": 3,
   "metadata": {
    "collapsed": false
   },
   "outputs": [
    {
     "name": "stdout",
     "output_type": "stream",
     "text": [
      "The sql extension is already loaded. To reload it, use:\n",
      "  %reload_ext sql\n"
     ]
    }
   ],
   "source": [
    "from sqlalchemy import *\n",
    "import psycopg2\n",
    "import pandas as pd\n",
    "%matplotlib inline\n",
    "import matplotlib.pyplot as plt\n",
    "%load_ext sql\n",
    "%config SqlMagic.displaylimit = 5\n",
    "import os.path\n",
    "import yaml\n",
    "import seaborn as sns"
   ]
  },
  {
   "cell_type": "code",
   "execution_count": 4,
   "metadata": {
    "collapsed": false
   },
   "outputs": [
    {
     "data": {
      "text/plain": [
       "'Connected: root@revboss'"
      ]
     },
     "execution_count": 4,
     "metadata": {},
     "output_type": "execute_result"
    }
   ],
   "source": [
    "profiles = {}\n",
    "paths = [\n",
    "    os.path.join(os.path.expanduser('~'), '.dbt/profiles.yml')\n",
    "]\n",
    "for path in paths:\n",
    "    if os.path.isfile(path):\n",
    "        with open(path, 'r') as f:\n",
    "            m = yaml.safe_load(f)\n",
    "            profiles.update(m)\n",
    "\n",
    "connect_to_db = ('postgresql+psycopg2://' + \n",
    "                 profiles['user']['outputs']['revboss-redshift']['user'] + ':' + \n",
    "                 profiles['user']['outputs']['revboss-redshift']['pass'] + '@' + \n",
    "                 profiles['user']['outputs']['revboss-redshift']['host'] + ':' + \n",
    "                 str(profiles['user']['outputs']['revboss-redshift']['port']) + '/' + \n",
    "                 profiles['user']['outputs']['revboss-redshift']['dbname'])\n",
    "\n",
    "%sql $connect_to_db"
   ]
  },
  {
   "cell_type": "code",
   "execution_count": 5,
   "metadata": {
    "collapsed": false
   },
   "outputs": [
    {
     "name": "stdout",
     "output_type": "stream",
     "text": [
      "95 rows affected.\n"
     ]
    },
    {
     "data": {
      "text/html": [
       "<table>\n",
       "    <tr>\n",
       "        <th>date_month</th>\n",
       "        <th>line</th>\n",
       "        <th>amount</th>\n",
       "    </tr>\n",
       "    <tr>\n",
       "        <td>2014-11-01</td>\n",
       "        <td>Other Income</td>\n",
       "        <td>0</td>\n",
       "    </tr>\n",
       "    <tr>\n",
       "        <td>2014-11-01</td>\n",
       "        <td>Income</td>\n",
       "        <td>2400</td>\n",
       "    </tr>\n",
       "    <tr>\n",
       "        <td>2014-11-01</td>\n",
       "        <td>Expense</td>\n",
       "        <td>0</td>\n",
       "    </tr>\n",
       "    <tr>\n",
       "        <td>2014-11-01</td>\n",
       "        <td>Cost of Goods Sold</td>\n",
       "        <td>0</td>\n",
       "    </tr>\n",
       "    <tr>\n",
       "        <td>2014-11-01</td>\n",
       "        <td>Other Expense</td>\n",
       "        <td>0</td>\n",
       "    </tr>\n",
       "</table>\n",
       "<span style=\"font-style:italic;text-align:center;\">95 rows, truncated to displaylimit of 5</span>"
      ],
      "text/plain": [
       "[(datetime.date(2014, 11, 1), 'Other Income', 0),\n",
       " (datetime.date(2014, 11, 1), 'Income', 2400),\n",
       " (datetime.date(2014, 11, 1), 'Expense', 0),\n",
       " (datetime.date(2014, 11, 1), 'Cost of Goods Sold', 0),\n",
       " (datetime.date(2014, 11, 1), 'Other Expense', 0),\n",
       " (datetime.date(2014, 12, 1), 'Income', 0),\n",
       " (datetime.date(2014, 12, 1), 'Expense', 0),\n",
       " (datetime.date(2014, 12, 1), 'Other Expense', 0),\n",
       " (datetime.date(2014, 12, 1), 'Other Income', 0),\n",
       " (datetime.date(2014, 12, 1), 'Cost of Goods Sold', 0),\n",
       " (datetime.date(2015, 1, 1), 'Expense', 0),\n",
       " (datetime.date(2015, 1, 1), 'Income', 0),\n",
       " (datetime.date(2015, 1, 1), 'Other Income', 0),\n",
       " (datetime.date(2015, 1, 1), 'Other Expense', 0),\n",
       " (datetime.date(2015, 1, 1), 'Cost of Goods Sold', 0),\n",
       " (datetime.date(2015, 2, 1), 'Other Income', 0),\n",
       " (datetime.date(2015, 2, 1), 'Income', 0),\n",
       " (datetime.date(2015, 2, 1), 'Other Expense', 0),\n",
       " (datetime.date(2015, 2, 1), 'Expense', 0),\n",
       " (datetime.date(2015, 2, 1), 'Cost of Goods Sold', 0),\n",
       " (datetime.date(2015, 3, 1), 'Expense', 0),\n",
       " (datetime.date(2015, 3, 1), 'Income', 0),\n",
       " (datetime.date(2015, 3, 1), 'Other Expense', 0),\n",
       " (datetime.date(2015, 3, 1), 'Other Income', 0),\n",
       " (datetime.date(2015, 3, 1), 'Cost of Goods Sold', 0),\n",
       " (datetime.date(2015, 4, 1), 'Other Income', 0),\n",
       " (datetime.date(2015, 4, 1), 'Income', 0),\n",
       " (datetime.date(2015, 4, 1), 'Cost of Goods Sold', 0),\n",
       " (datetime.date(2015, 4, 1), 'Expense', 0),\n",
       " (datetime.date(2015, 4, 1), 'Other Expense', 0),\n",
       " (datetime.date(2015, 5, 1), 'Income', 4500),\n",
       " (datetime.date(2015, 5, 1), 'Other Income', 0),\n",
       " (datetime.date(2015, 5, 1), 'Expense', 0),\n",
       " (datetime.date(2015, 5, 1), 'Cost of Goods Sold', 0),\n",
       " (datetime.date(2015, 5, 1), 'Other Expense', 0),\n",
       " (datetime.date(2015, 6, 1), 'Income', 7750),\n",
       " (datetime.date(2015, 6, 1), 'Other Expense', 0),\n",
       " (datetime.date(2015, 6, 1), 'Expense', 0),\n",
       " (datetime.date(2015, 6, 1), 'Other Income', 0),\n",
       " (datetime.date(2015, 6, 1), 'Cost of Goods Sold', 0),\n",
       " (datetime.date(2015, 7, 1), 'Income', 7121),\n",
       " (datetime.date(2015, 7, 1), 'Other Income', 0),\n",
       " (datetime.date(2015, 7, 1), 'Expense', 0),\n",
       " (datetime.date(2015, 7, 1), 'Cost of Goods Sold', 0),\n",
       " (datetime.date(2015, 7, 1), 'Other Expense', 0),\n",
       " (datetime.date(2015, 8, 1), 'Income', 13830),\n",
       " (datetime.date(2015, 8, 1), 'Other Expense', 0),\n",
       " (datetime.date(2015, 8, 1), 'Expense', 0),\n",
       " (datetime.date(2015, 8, 1), 'Other Income', 0),\n",
       " (datetime.date(2015, 8, 1), 'Cost of Goods Sold', 0),\n",
       " (datetime.date(2015, 9, 1), 'Other Expense', 0),\n",
       " (datetime.date(2015, 9, 1), 'Income', 38150),\n",
       " (datetime.date(2015, 9, 1), 'Expense', 0),\n",
       " (datetime.date(2015, 9, 1), 'Other Income', 0),\n",
       " (datetime.date(2015, 9, 1), 'Cost of Goods Sold', 0),\n",
       " (datetime.date(2015, 10, 1), 'Expense', 10775),\n",
       " (datetime.date(2015, 10, 1), 'Income', -62650),\n",
       " (datetime.date(2015, 10, 1), 'Cost of Goods Sold', 99),\n",
       " (datetime.date(2015, 10, 1), 'Other Income', 0),\n",
       " (datetime.date(2015, 10, 1), 'Other Expense', 0),\n",
       " (datetime.date(2015, 11, 1), 'Income', 37300),\n",
       " (datetime.date(2015, 11, 1), 'Other Income', 0),\n",
       " (datetime.date(2015, 11, 1), 'Expense', 58176),\n",
       " (datetime.date(2015, 11, 1), 'Cost of Goods Sold', 366),\n",
       " (datetime.date(2015, 11, 1), 'Other Expense', 0),\n",
       " (datetime.date(2015, 12, 1), 'Income', 62313),\n",
       " (datetime.date(2015, 12, 1), 'Expense', 38330),\n",
       " (datetime.date(2015, 12, 1), 'Cost of Goods Sold', 941),\n",
       " (datetime.date(2015, 12, 1), 'Other Income', 0),\n",
       " (datetime.date(2015, 12, 1), 'Other Expense', 0),\n",
       " (datetime.date(2016, 1, 1), 'Income', 38450),\n",
       " (datetime.date(2016, 1, 1), 'Expense', 33449),\n",
       " (datetime.date(2016, 1, 1), 'Other Income', 2),\n",
       " (datetime.date(2016, 1, 1), 'Cost of Goods Sold', 3290),\n",
       " (datetime.date(2016, 1, 1), 'Other Expense', 0),\n",
       " (datetime.date(2016, 2, 1), 'Income', 51550),\n",
       " (datetime.date(2016, 2, 1), 'Other Income', 9),\n",
       " (datetime.date(2016, 2, 1), 'Expense', 25476),\n",
       " (datetime.date(2016, 2, 1), 'Cost of Goods Sold', 4897),\n",
       " (datetime.date(2016, 2, 1), 'Other Expense', 0),\n",
       " (datetime.date(2016, 3, 1), 'Expense', 29587),\n",
       " (datetime.date(2016, 3, 1), 'Income', 34701),\n",
       " (datetime.date(2016, 3, 1), 'Cost of Goods Sold', 5197),\n",
       " (datetime.date(2016, 3, 1), 'Other Income', 10),\n",
       " (datetime.date(2016, 3, 1), 'Other Expense', 0),\n",
       " (datetime.date(2016, 4, 1), 'Expense', 12954),\n",
       " (datetime.date(2016, 4, 1), 'Income', 49361),\n",
       " (datetime.date(2016, 4, 1), 'Other Income', 9),\n",
       " (datetime.date(2016, 4, 1), 'Cost of Goods Sold', 10768),\n",
       " (datetime.date(2016, 4, 1), 'Other Expense', 0),\n",
       " (datetime.date(2016, 5, 1), 'Income', 39399),\n",
       " (datetime.date(2016, 5, 1), 'Expense', 25913),\n",
       " (datetime.date(2016, 5, 1), 'Other Income', 0),\n",
       " (datetime.date(2016, 5, 1), 'Cost of Goods Sold', 5882),\n",
       " (datetime.date(2016, 5, 1), 'Other Expense', 0)]"
      ]
     },
     "execution_count": 5,
     "metadata": {},
     "output_type": "execute_result"
    }
   ],
   "source": [
    "%%sql\n",
    "\n",
    "with ledger as (\n",
    "\n",
    "  select * from analytics.quickbooks_ledger_xf\n",
    "  \n",
    "), accounts as (\n",
    "\n",
    "  select * from analytics.quickbooks_accounts_xf\n",
    "  \n",
    ")\n",
    "\n",
    "select ledger.date_month, accounts.type as line, sum(total)::int as amount\n",
    "from ledger\n",
    "  inner join accounts on ledger.account_id = accounts.id\n",
    "where accounts.statement = 'is'\n",
    "group by 1, 2\n",
    "order by 1"
   ]
  },
  {
   "cell_type": "code",
   "execution_count": 6,
   "metadata": {
    "collapsed": false
   },
   "outputs": [],
   "source": [
    "is_source = _.DataFrame()"
   ]
  },
  {
   "cell_type": "code",
   "execution_count": 21,
   "metadata": {
    "collapsed": false
   },
   "outputs": [],
   "source": [
    "is_source['date_month'] = pd.to_datetime(is_source['date_month'])"
   ]
  },
  {
   "cell_type": "code",
   "execution_count": null,
   "metadata": {
    "collapsed": true
   },
   "outputs": [],
   "source": []
  },
  {
   "cell_type": "code",
   "execution_count": 23,
   "metadata": {
    "collapsed": false
   },
   "outputs": [],
   "source": [
    "#pivot the source data so that it can be operated on in series\n",
    "income_statement = is_source.pivot(index='date_month', columns='line', values='amount')\n",
    "\n",
    "#add calculated rows\n",
    "income_statement['Total Income'] = income_statement['Income'] + income_statement['Other Income']\n",
    "income_statement['Operating Income'] = income_statement['Total Income'] - income_statement['Cost of Goods Sold']\n",
    "income_statement['Gross Margin %'] = income_statement['Operating Income'] / income_statement['Total Income']\n",
    "income_statement['Total Expense'] = income_statement['Expense'] + income_statement['Other Expense']\n",
    "income_statement['Net Income'] = income_statement['Operating Income'] - income_statement['Total Expense']\n",
    "income_statement['Profit Margin'] = income_statement['Net Income'] / income_statement['Total Income']\n",
    "\n",
    "#order the columns logically\n",
    "income_statement = income_statement[['Income', 'Other Income', 'Total Income', 'Cost of Goods Sold', \n",
    "                                     'Operating Income', 'Gross Margin %', 'Expense', 'Other Expense',\n",
    "                                     'Total Expense', 'Net Income', 'Profit Margin'\n",
    "                                    ]]"
   ]
  },
  {
   "cell_type": "code",
   "execution_count": 24,
   "metadata": {
    "collapsed": false
   },
   "outputs": [],
   "source": [
    "is_summary_plot = income_statement[['Total Income', 'Total Expense', 'Net Income']]"
   ]
  },
  {
   "cell_type": "code",
   "execution_count": 25,
   "metadata": {
    "collapsed": false
   },
   "outputs": [
    {
     "data": {
      "text/plain": [
       "<matplotlib.figure.Figure at 0x109457128>"
      ]
     },
     "metadata": {},
     "output_type": "display_data"
    },
    {
     "data": {
      "image/png": "[encoded data removed]",
      "text/plain": [
       "<matplotlib.figure.Figure at 0x10946ee80>"
      ]
     },
     "metadata": {},
     "output_type": "display_data"
    }
   ],
   "source": [
    "sns.set_style(\"white\")\n",
    "sns.set_context(\"talk\")\n",
    "plt.figure(figsize=(8, 6))\n",
    "is_summary_plot.plot()\n",
    "sns.despine()"
   ]
  },
  {
   "cell_type": "code",
   "execution_count": 56,
   "metadata": {
    "collapsed": false
   },
   "outputs": [
    {
     "data": {
      "text/html": [
       "<div>\n",
       "<table border=\"1\" class=\"dataframe\">\n",
       "  <thead>\n",
       "    <tr style=\"text-align: right;\">\n",
       "      <th>date_month</th>\n",
       "      <th>2015-05-01 00:00:00</th>\n",
       "      <th>2015-06-01 00:00:00</th>\n",
       "      <th>2015-07-01 00:00:00</th>\n",
       "      <th>2015-08-01 00:00:00</th>\n",
       "      <th>2015-09-01 00:00:00</th>\n",
       "      <th>2015-10-01 00:00:00</th>\n",
       "      <th>2015-11-01 00:00:00</th>\n",
       "      <th>2015-12-01 00:00:00</th>\n",
       "      <th>2016-01-01 00:00:00</th>\n",
       "      <th>2016-02-01 00:00:00</th>\n",
       "      <th>2016-03-01 00:00:00</th>\n",
       "      <th>2016-04-01 00:00:00</th>\n",
       "    </tr>\n",
       "    <tr>\n",
       "      <th>line</th>\n",
       "      <th></th>\n",
       "      <th></th>\n",
       "      <th></th>\n",
       "      <th></th>\n",
       "      <th></th>\n",
       "      <th></th>\n",
       "      <th></th>\n",
       "      <th></th>\n",
       "      <th></th>\n",
       "      <th></th>\n",
       "      <th></th>\n",
       "      <th></th>\n",
       "    </tr>\n",
       "  </thead>\n",
       "  <tbody>\n",
       "    <tr>\n",
       "      <th>Income</th>\n",
       "      <td>4500.0</td>\n",
       "      <td>7750.0</td>\n",
       "      <td>7121.0</td>\n",
       "      <td>13830.0</td>\n",
       "      <td>38150.0</td>\n",
       "      <td>-62650.000000</td>\n",
       "      <td>37300.000000</td>\n",
       "      <td>62313.000000</td>\n",
       "      <td>38450.000000</td>\n",
       "      <td>51550.000000</td>\n",
       "      <td>34701.000000</td>\n",
       "      <td>49361.000000</td>\n",
       "    </tr>\n",
       "    <tr>\n",
       "      <th>Other Income</th>\n",
       "      <td>0.0</td>\n",
       "      <td>0.0</td>\n",
       "      <td>0.0</td>\n",
       "      <td>0.0</td>\n",
       "      <td>0.0</td>\n",
       "      <td>0.000000</td>\n",
       "      <td>0.000000</td>\n",
       "      <td>0.000000</td>\n",
       "      <td>2.000000</td>\n",
       "      <td>9.000000</td>\n",
       "      <td>10.000000</td>\n",
       "      <td>9.000000</td>\n",
       "    </tr>\n",
       "    <tr>\n",
       "      <th>Total Income</th>\n",
       "      <td>4500.0</td>\n",
       "      <td>7750.0</td>\n",
       "      <td>7121.0</td>\n",
       "      <td>13830.0</td>\n",
       "      <td>38150.0</td>\n",
       "      <td>-62650.000000</td>\n",
       "      <td>37300.000000</td>\n",
       "      <td>62313.000000</td>\n",
       "      <td>38452.000000</td>\n",
       "      <td>51559.000000</td>\n",
       "      <td>34711.000000</td>\n",
       "      <td>49370.000000</td>\n",
       "    </tr>\n",
       "    <tr>\n",
       "      <th>Cost of Goods Sold</th>\n",
       "      <td>0.0</td>\n",
       "      <td>0.0</td>\n",
       "      <td>0.0</td>\n",
       "      <td>0.0</td>\n",
       "      <td>0.0</td>\n",
       "      <td>99.000000</td>\n",
       "      <td>366.000000</td>\n",
       "      <td>941.000000</td>\n",
       "      <td>3290.000000</td>\n",
       "      <td>4897.000000</td>\n",
       "      <td>5197.000000</td>\n",
       "      <td>10768.000000</td>\n",
       "    </tr>\n",
       "    <tr>\n",
       "      <th>Operating Income</th>\n",
       "      <td>4500.0</td>\n",
       "      <td>7750.0</td>\n",
       "      <td>7121.0</td>\n",
       "      <td>13830.0</td>\n",
       "      <td>38150.0</td>\n",
       "      <td>-62749.000000</td>\n",
       "      <td>36934.000000</td>\n",
       "      <td>61372.000000</td>\n",
       "      <td>35162.000000</td>\n",
       "      <td>46662.000000</td>\n",
       "      <td>29514.000000</td>\n",
       "      <td>38602.000000</td>\n",
       "    </tr>\n",
       "    <tr>\n",
       "      <th>Gross Margin %</th>\n",
       "      <td>1.0</td>\n",
       "      <td>1.0</td>\n",
       "      <td>1.0</td>\n",
       "      <td>1.0</td>\n",
       "      <td>1.0</td>\n",
       "      <td>1.001580</td>\n",
       "      <td>0.990188</td>\n",
       "      <td>0.984899</td>\n",
       "      <td>0.914439</td>\n",
       "      <td>0.905021</td>\n",
       "      <td>0.850278</td>\n",
       "      <td>0.781892</td>\n",
       "    </tr>\n",
       "    <tr>\n",
       "      <th>Expense</th>\n",
       "      <td>0.0</td>\n",
       "      <td>0.0</td>\n",
       "      <td>0.0</td>\n",
       "      <td>0.0</td>\n",
       "      <td>0.0</td>\n",
       "      <td>10775.000000</td>\n",
       "      <td>58176.000000</td>\n",
       "      <td>38330.000000</td>\n",
       "      <td>33449.000000</td>\n",
       "      <td>25476.000000</td>\n",
       "      <td>29587.000000</td>\n",
       "      <td>12954.000000</td>\n",
       "    </tr>\n",
       "    <tr>\n",
       "      <th>Other Expense</th>\n",
       "      <td>0.0</td>\n",
       "      <td>0.0</td>\n",
       "      <td>0.0</td>\n",
       "      <td>0.0</td>\n",
       "      <td>0.0</td>\n",
       "      <td>0.000000</td>\n",
       "      <td>0.000000</td>\n",
       "      <td>0.000000</td>\n",
       "      <td>0.000000</td>\n",
       "      <td>0.000000</td>\n",
       "      <td>0.000000</td>\n",
       "      <td>0.000000</td>\n",
       "    </tr>\n",
       "    <tr>\n",
       "      <th>Total Expense</th>\n",
       "      <td>0.0</td>\n",
       "      <td>0.0</td>\n",
       "      <td>0.0</td>\n",
       "      <td>0.0</td>\n",
       "      <td>0.0</td>\n",
       "      <td>10775.000000</td>\n",
       "      <td>58176.000000</td>\n",
       "      <td>38330.000000</td>\n",
       "      <td>33449.000000</td>\n",
       "      <td>25476.000000</td>\n",
       "      <td>29587.000000</td>\n",
       "      <td>12954.000000</td>\n",
       "    </tr>\n",
       "    <tr>\n",
       "      <th>Net Income</th>\n",
       "      <td>4500.0</td>\n",
       "      <td>7750.0</td>\n",
       "      <td>7121.0</td>\n",
       "      <td>13830.0</td>\n",
       "      <td>38150.0</td>\n",
       "      <td>-73524.000000</td>\n",
       "      <td>-21242.000000</td>\n",
       "      <td>23042.000000</td>\n",
       "      <td>1713.000000</td>\n",
       "      <td>21186.000000</td>\n",
       "      <td>-73.000000</td>\n",
       "      <td>25648.000000</td>\n",
       "    </tr>\n",
       "    <tr>\n",
       "      <th>Profit Margin</th>\n",
       "      <td>1.0</td>\n",
       "      <td>1.0</td>\n",
       "      <td>1.0</td>\n",
       "      <td>1.0</td>\n",
       "      <td>1.0</td>\n",
       "      <td>1.173567</td>\n",
       "      <td>-0.569491</td>\n",
       "      <td>0.369778</td>\n",
       "      <td>0.044549</td>\n",
       "      <td>0.410908</td>\n",
       "      <td>-0.002103</td>\n",
       "      <td>0.519506</td>\n",
       "    </tr>\n",
       "  </tbody>\n",
       "</table>\n",
       "</div>"
      ],
      "text/plain": [
       "date_month          2015-05-01  2015-06-01  2015-07-01  2015-08-01  \\\n",
       "line                                                                 \n",
       "Income                  4500.0      7750.0      7121.0     13830.0   \n",
       "Other Income               0.0         0.0         0.0         0.0   \n",
       "Total Income            4500.0      7750.0      7121.0     13830.0   \n",
       "Cost of Goods Sold         0.0         0.0         0.0         0.0   \n",
       "Operating Income        4500.0      7750.0      7121.0     13830.0   \n",
       "Gross Margin %             1.0         1.0         1.0         1.0   \n",
       "Expense                    0.0         0.0         0.0         0.0   \n",
       "Other Expense              0.0         0.0         0.0         0.0   \n",
       "Total Expense              0.0         0.0         0.0         0.0   \n",
       "Net Income              4500.0      7750.0      7121.0     13830.0   \n",
       "Profit Margin              1.0         1.0         1.0         1.0   \n",
       "\n",
       "date_month          2015-09-01    2015-10-01    2015-11-01    2015-12-01  \\\n",
       "line                                                                       \n",
       "Income                 38150.0 -62650.000000  37300.000000  62313.000000   \n",
       "Other Income               0.0      0.000000      0.000000      0.000000   \n",
       "Total Income           38150.0 -62650.000000  37300.000000  62313.000000   \n",
       "Cost of Goods Sold         0.0     99.000000    366.000000    941.000000   \n",
       "Operating Income       38150.0 -62749.000000  36934.000000  61372.000000   \n",
       "Gross Margin %             1.0      1.001580      0.990188      0.984899   \n",
       "Expense                    0.0  10775.000000  58176.000000  38330.000000   \n",
       "Other Expense              0.0      0.000000      0.000000      0.000000   \n",
       "Total Expense              0.0  10775.000000  58176.000000  38330.000000   \n",
       "Net Income             38150.0 -73524.000000 -21242.000000  23042.000000   \n",
       "Profit Margin              1.0      1.173567     -0.569491      0.369778   \n",
       "\n",
       "date_month            2016-01-01    2016-02-01    2016-03-01    2016-04-01  \n",
       "line                                                                        \n",
       "Income              38450.000000  51550.000000  34701.000000  49361.000000  \n",
       "Other Income            2.000000      9.000000     10.000000      9.000000  \n",
       "Total Income        38452.000000  51559.000000  34711.000000  49370.000000  \n",
       "Cost of Goods Sold   3290.000000   4897.000000   5197.000000  10768.000000  \n",
       "Operating Income    35162.000000  46662.000000  29514.000000  38602.000000  \n",
       "Gross Margin %          0.914439      0.905021      0.850278      0.781892  \n",
       "Expense             33449.000000  25476.000000  29587.000000  12954.000000  \n",
       "Other Expense           0.000000      0.000000      0.000000      0.000000  \n",
       "Total Expense       33449.000000  25476.000000  29587.000000  12954.000000  \n",
       "Net Income           1713.000000  21186.000000    -73.000000  25648.000000  \n",
       "Profit Margin           0.044549      0.410908     -0.002103      0.519506  "
      ]
     },
     "execution_count": 56,
     "metadata": {},
     "output_type": "execute_result"
    }
   ],
   "source": [
    "start_month = str(int(time.strftime(\"%Y\")) - 1) + \"-\" + time.strftime(\"%m\")\n",
    "end_month = time.strftime(\"%Y\") + \"-\" + str(int(time.strftime(\"%m\")) - 1)\n",
    "income_statement.loc[start_month:end_month].transpose()"
   ]
  },
  {
   "cell_type": "code",
   "execution_count": 41,
   "metadata": {
    "collapsed": false
   },
   "outputs": [
    {
     "data": {
      "text/plain": [
       "'2015-05'"
      ]
     },
     "execution_count": 41,
     "metadata": {},
     "output_type": "execute_result"
    }
   ],
   "source": []
  },
  {
   "cell_type": "code",
   "execution_count": 54,
   "metadata": {
    "collapsed": false
   },
   "outputs": [
    {
     "name": "stdout",
     "output_type": "stream",
     "text": [
      "2015-05\n"
     ]
    }
   ],
   "source": []
  },
  {
   "cell_type": "code",
   "execution_count": null,
   "metadata": {
    "collapsed": true
   },
   "outputs": [],
   "source": []
  }
 ],
 "metadata": {
  "kernelspec": {
   "display_name": "Python 3",
   "language": "python",
   "name": "python3"
  },
  "language_info": {
   "codemirror_mode": {
    "name": "ipython",
    "version": 3
   },
   "file_extension": ".py",
   "mimetype": "text/x-python",
   "name": "python",
   "nbconvert_exporter": "python",
   "pygments_lexer": "ipython3",
   "version": "3.4.3"
  }
 },
 "nbformat": 4,
 "nbformat_minor": 0
}
